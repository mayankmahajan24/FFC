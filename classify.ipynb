{
 "cells": [
  {
   "cell_type": "code",
   "execution_count": 32,
   "metadata": {
    "collapsed": false,
    "deletable": true,
    "editable": true
   },
   "outputs": [],
   "source": [
    "import csv\n",
    "import pandas as pd\n",
    "import numpy as np\n",
    "import sys\n",
    "\n",
    "from sklearn.model_selection import GridSearchCV\n",
    "from sklearn.ensemble import AdaBoostClassifier\n",
    "from sklearn.linear_model import LogisticRegression, LogisticRegressionCV\n",
    "\n",
    "from fancyimpute import MICE, BiScaler, KNN, NuclearNormMinimization, SoftImpute\n",
    "\n",
    "from sklearn.linear_model import RandomizedLasso\n",
    "\n",
    "debug = False\n",
    "\n",
    "def drop_low_var_quality_features(df, missing_values_threshold, std_threshold):\n",
    "    \"\"\"\n",
    "    Params:\n",
    "    missing_values_threshold: Maximum number of missing values for a column to be retained\n",
    "    std_threshold: Minimum standard deviation for a column to be retained.\n",
    "    \"\"\"\n",
    "    rows_count, cols_count = df.shape\n",
    "    df.dropna(axis=1, thresh=rows_count-missing_values_threshold, inplace=True)\n",
    "    df.drop(df.std()[df.std() < std_threshold].index.values, axis=1, inplace=True)\n",
    "\n",
    "def is_valid_type(values):\n",
    "    validity_list = []\n",
    "    for val in values:\n",
    "        isValid = True if type(val) == bool or np.isfinite(val) else False\n",
    "        validity_list.append(isValid)\n",
    "    return validity_list\n",
    "    \n",
    "def get_data_for_characteristic(X_train, Y_train, characteristic, get_only_complete_cases=False):\n",
    "    y_char = Y_train[is_valid_type(Y_train[characteristic])]\n",
    "    \n",
    "    training_ids = y_char.index.values.tolist()\n",
    "    X_char = X_train.ix[training_ids]\n",
    "    \n",
    "    non_numeric_cols = X_char.select_dtypes(exclude=[np.number]).columns.values.tolist()\n",
    "    X_char.drop(non_numeric_cols, axis=1, inplace=True)\n",
    "    \n",
    "    if get_only_complete_cases is True:\n",
    "        X_char = X_char.dropna(axis=0, inplace=False)\n",
    "        training_ids = X_char.index.values.tolist()\n",
    "        y_char = y_char.ix[training_ids]\n",
    "\n",
    "    assert(y_char.index.values.tolist() == X_char.index.values.tolist())\n",
    "    return X_char, y_char[characteristic]"
   ]
  },
  {
   "cell_type": "code",
   "execution_count": 14,
   "metadata": {
    "collapsed": true,
    "deletable": true,
    "editable": true
   },
   "outputs": [],
   "source": [
    "def perform_imputation_for_characteristic(df, y_train_df, selection_threshold, characteristic, imputeKNN=False):\n",
    "    # Get Xs and corresponding Ys for a characteristic. Only get the complete Xs (without any nan values)\n",
    "    X_char_complete, y_char_complete = get_data_for_characteristic(df, y_train_df, characteristic, get_only_complete_cases=True)\n",
    "    \n",
    "    # Convert the complete cases DFs to Matrix\n",
    "    X_char_c_mat, y_char_c_mat = X_char_complete.as_matrix(), y_char_complete.as_matrix()\n",
    "    \n",
    "    # Perform Randomized Lasso feature selection using the complete cases.\n",
    "    lasso = RandomizedLasso(alpha='aic', random_state=39, n_resampling=500)\n",
    "    lasso.fit(X_char_c_mat, y_char_c_mat)\n",
    "    stability_scores = lasso.scores_\n",
    "    support = np.where(stability_scores > selection_threshold)[0]\n",
    "    \n",
    "    print selection_threshold, '\\t', str(len(support))\n",
    "    if debug:\n",
    "        print str(support)\n",
    "    \n",
    "    # Shrink the the X's dataframe to only required features\n",
    "    XFFull = df.iloc[:,support]\n",
    "    \n",
    "    # Perform the imputation\n",
    "    XFFull_mat = XFFull.as_matrix()\n",
    "    try:\n",
    "        if imputeKNN:\n",
    "            X_full_imputed = KNN(k=3).complete(XFFull_mat)\n",
    "        else:\n",
    "            X_full_imputed = MICE().complete(XFFull_mat)\n",
    "    except ValueError:\n",
    "        X_full_imputed = XFFull_mat\n",
    "        print \"Input matrix is not missing any values.\"\n",
    "    \n",
    "    print \"NaN's before imputation {}, after {}.\".format(np.count_nonzero(np.isnan(XFFull_mat)), np.count_nonzero(np.isnan(X_full_imputed)))\n",
    "    print \"NaN was at {}\".format(np.argwhere(np.isnan(XFFull_mat)))\n",
    "    \n",
    "    return pd.DataFrame(X_full_imputed, index=XFFull.index, columns=XFFull.columns)"
   ]
  },
  {
   "cell_type": "code",
   "execution_count": 3,
   "metadata": {
    "collapsed": true,
    "deletable": true,
    "editable": true
   },
   "outputs": [],
   "source": [
    "df = pd.read_csv('background.csv', low_memory=False)\n",
    "df.cf4fint = ((pd.to_datetime(df.cf4fint) - pd.to_datetime('1960-01-01')) / np.timedelta64(1, 'D')).astype(int)\n",
    "df.index = df['challengeID']\n",
    "\n",
    "if debug:\n",
    "    # number of nan cols\n",
    "    print sum(df.isnull().sum().tolist())\n",
    "    # number of non-nan cols\n",
    "    print df.count().sum()\n",
    "    # Total elements\n",
    "    print df.size\n",
    "    # Shape\n",
    "    print df.shape\n",
    "\n",
    "drop_low_var_quality_features(df, 200, 0.2)\n",
    "\n",
    "if debug:\n",
    "    print sorted(df.isnull().sum().tolist(), reverse=True)[:10]\n",
    "    print sorted(df.std())[:30]\n",
    "    print df.shape\n",
    "\n",
    "y_train_df = pd.read_csv(\"train.csv\", low_memory=False)\n",
    "y_train_df.index = y_train_df['challengeID']"
   ]
  },
  {
   "cell_type": "code",
   "execution_count": 35,
   "metadata": {
    "collapsed": false,
    "deletable": true,
    "editable": true
   },
   "outputs": [],
   "source": [
    "def run_for_nomial_char(df, y_train_df, characteristic, useAdaBoost=False):\n",
    "    imputed_pd = perform_imputation_for_characteristic(df, y_train_df, .00001, characteristic)\n",
    "    if useAdaBoost:\n",
    "        tuned_parameters = {'n_estimators': [50, 100, 300], 'learning_rate': [0.5, 1, 2] }\n",
    "        clf = GridSearchCV(AdaBoostClassifier(), tuned_parameters, cv=3, scoring='roc_auc', verbose=5, n_jobs=-1)\n",
    "    else:\n",
    "        clf = LogisticRegressionCV(cv=3, scoring='roc_auc', verbose=10, n_jobs=-1)\n",
    "    X_train, y_train = get_data_for_characteristic(imputed_pd, y_train_df, characteristic)\n",
    "    clf = clf.fit(X_train.as_matrix(), y_train.as_matrix().astype(int))\n",
    "    predictions = clf.predict(imputed_pd)\n",
    "    print \"predicted {} as positive out of {}.\".format(sum(predictions), len(predictions))\n",
    "    return predictions"
   ]
  },
  {
   "cell_type": "code",
   "execution_count": 36,
   "metadata": {
    "collapsed": false
   },
   "outputs": [
    {
     "name": "stdout",
     "output_type": "stream",
     "text": [
      "1e-05 \t73\n",
      "[MICE] Completing matrix with shape (4242, 73)\n",
      "Input matrix is not missing any values.\n",
      "NaN's before imputation 0, after 0.\n",
      "NaN was at []\n",
      "predicted 39 as positive out of 4242.\n"
     ]
    },
    {
     "name": "stderr",
     "output_type": "stream",
     "text": [
      "[Parallel(n_jobs=-1)]: Done   3 out of   3 | elapsed:    0.3s remaining:    0.0s\n",
      "[Parallel(n_jobs=-1)]: Done   3 out of   3 | elapsed:    0.3s finished\n"
     ]
    },
    {
     "data": {
      "text/plain": [
       "array([0, 0, 0, ..., 0, 0, 0])"
      ]
     },
     "execution_count": 36,
     "metadata": {},
     "output_type": "execute_result"
    }
   ],
   "source": [
    "run_for_nomial_char(df, y_train_df, 'layoff')"
   ]
  },
  {
   "cell_type": "code",
   "execution_count": null,
   "metadata": {
    "collapsed": true
   },
   "outputs": [],
   "source": []
  }
 ],
 "metadata": {
  "kernelspec": {
   "display_name": "Python 2",
   "language": "python",
   "name": "python2"
  },
  "language_info": {
   "codemirror_mode": {
    "name": "ipython",
    "version": 2
   },
   "file_extension": ".py",
   "mimetype": "text/x-python",
   "name": "python",
   "nbconvert_exporter": "python",
   "pygments_lexer": "ipython2",
   "version": "2.7.12"
  }
 },
 "nbformat": 4,
 "nbformat_minor": 2
}
