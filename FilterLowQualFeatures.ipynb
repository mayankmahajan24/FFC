{
 "cells": [
  {
   "cell_type": "code",
   "execution_count": 4,
   "metadata": {
    "collapsed": false,
    "deletable": true,
    "editable": true
   },
   "outputs": [],
   "source": [
    "import csv\n",
    "import pandas as pd\n",
    "import numpy as np\n",
    "import sys\n",
    "\n",
    "from fancyimpute import MICE, BiScaler, KNN, NuclearNormMinimization, SoftImpute\n",
    "\n",
    "from sklearn.linear_model import RandomizedLasso\n",
    "\n",
    "def drop_low_var_quality_features(df, missing_values_threshold, std_threshold):\n",
    "    \"\"\"\n",
    "    Params:\n",
    "    missing_values_threshold: Maximum number of missing values for a column to be retained\n",
    "    std_threshold: Minimum standard deviation for a column to be retained.\n",
    "    \"\"\"\n",
    "    rows_count, cols_count = df.shape\n",
    "    df.dropna(axis=1, thresh=rows_count-missing_values_threshold, inplace=True)\n",
    "    df.drop(df.std()[df.std() < std_threshold].index.values, axis=1, inplace=True)"
   ]
  },
  {
   "cell_type": "code",
   "execution_count": 2,
   "metadata": {
    "collapsed": true,
    "deletable": true,
    "editable": true
   },
   "outputs": [],
   "source": [
    "df = pd.read_csv('background.csv', low_memory=False)\n",
    "df.cf4fint = ((pd.to_datetime(df.cf4fint) - pd.to_datetime('1960-01-01')) / np.timedelta64(1, 'D')).astype(int)"
   ]
  },
  {
   "cell_type": "code",
   "execution_count": null,
   "metadata": {
    "collapsed": false,
    "deletable": true,
    "editable": true
   },
   "outputs": [],
   "source": [
    "# number of nan cols\n",
    "# print sum(df.isnull().sum().tolist())\n",
    "# number of non-nan cols\n",
    "# print df.count().sum()\n",
    "# Total elements\n",
    "# print df.size\n",
    "# Shape\n",
    "# rows_count, cols_count = df.shape\n",
    "# print (rows_count, cols_count)"
   ]
  },
  {
   "cell_type": "code",
   "execution_count": null,
   "metadata": {
    "collapsed": false
   },
   "outputs": [],
   "source": [
    "drop_low_var_quality_features(df, 200, 0.2)\n",
    "print sorted(df.isnull().sum().tolist(), reverse=True)[:10]\n",
    "print sorted(df.std())[:30]\n",
    "print df.shape"
   ]
  },
  {
   "cell_type": "code",
   "execution_count": 6,
   "metadata": {
    "collapsed": true
   },
   "outputs": [],
   "source": [
    "y_train_df = pd.read_csv(\"train.csv\", low_memory=False)"
   ]
  },
  {
   "cell_type": "code",
   "execution_count": 29,
   "metadata": {
    "collapsed": false
   },
   "outputs": [],
   "source": [
    "def get_data_for_characteristic(X_train, Y_train, characteristic, get_only_complete_cases=False):\n",
    "    y_char = Y_train[np.isfinite(Y_train[characteristic])]\n",
    "    \n",
    "    training_ids = y_char['challengeID'].tolist()\n",
    "    X_char = X_train[X_train['challengeID'].isin(training_ids)]\n",
    "    X_char = X_char.sort_values(by='challengeID')\n",
    "    y_char = y_char.sort_values(by='challengeID')\n",
    "    assert(y_char['challengeID'].tolist() == X_char['challengeID'].tolist())\n",
    "    \n",
    "    non_numeric_cols = X_char.select_dtypes(exclude=[np.number]).columns.values.tolist()\n",
    "    X_char.drop(non_numeric_cols, axis=1, inplace=True)\n",
    "    \n",
    "    if get_only_complete_cases is True:\n",
    "        X_char = X_char.dropna(axis=0, inplace=False)\n",
    "\n",
    "    return X_char, y_char[characteristic]"
   ]
  },
  {
   "cell_type": "code",
   "execution_count": 30,
   "metadata": {
    "collapsed": false
   },
   "outputs": [],
   "source": [
    "X_grit, y_grit = get_data_for_characteristic(df, y_train_df, 'grit')"
   ]
  },
  {
   "cell_type": "code",
   "execution_count": 33,
   "metadata": {
    "collapsed": false
   },
   "outputs": [
    {
     "name": "stdout",
     "output_type": "stream",
     "text": [
      "(1418, 8412)\n",
      "(1296, 8412)\n"
     ]
    }
   ],
   "source": [
    "print X_grit.shape\n",
    "\n",
    "print X_grit_complete_cases.shape"
   ]
  },
  {
   "cell_type": "code",
   "execution_count": null,
   "metadata": {
    "collapsed": true
   },
   "outputs": [],
   "source": []
  },
  {
   "cell_type": "code",
   "execution_count": null,
   "metadata": {
    "collapsed": false
   },
   "outputs": [],
   "source": [
    "\n"
   ]
  },
  {
   "cell_type": "code",
   "execution_count": null,
   "metadata": {
    "collapsed": false
   },
   "outputs": [],
   "source": []
  },
  {
   "cell_type": "code",
   "execution_count": null,
   "metadata": {
    "collapsed": false
   },
   "outputs": [],
   "source": [
    "X_grit_mat, y_grit_mat = X_grit.as_matrix(), y_grit.as_matrix()"
   ]
  },
  {
   "cell_type": "code",
   "execution_count": null,
   "metadata": {
    "collapsed": false
   },
   "outputs": [],
   "source": [
    "thresholds = np.logspace(-4,-1,4)\n",
    "lasso = RandomizedLasso(alpha='aic', random_state=39, n_resampling=500)\n",
    "lasso.fit(X_grit_mat, y_grit_mat)\n",
    "stability_scores = lasso.scores_\n",
    "support = np.where(stability_scores > thresholds[0])[0]\n",
    "print threshold, '\\t', str(support)\n",
    "Xf = X_grit.iloc[:,support]"
   ]
  },
  {
   "cell_type": "code",
   "execution_count": null,
   "metadata": {
    "collapsed": true
   },
   "outputs": [],
   "source": []
  }
 ],
 "metadata": {
  "kernelspec": {
   "display_name": "Python 2",
   "language": "python",
   "name": "python2"
  },
  "language_info": {
   "codemirror_mode": {
    "name": "ipython",
    "version": 2
   },
   "file_extension": ".py",
   "mimetype": "text/x-python",
   "name": "python",
   "nbconvert_exporter": "python",
   "pygments_lexer": "ipython2",
   "version": "2.7.12"
  }
 },
 "nbformat": 4,
 "nbformat_minor": 2
}
