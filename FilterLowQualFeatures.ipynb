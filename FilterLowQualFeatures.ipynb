{
 "cells": [
  {
   "cell_type": "code",
   "execution_count": null,
   "metadata": {
    "collapsed": false,
    "deletable": true,
    "editable": true
   },
   "outputs": [],
   "source": [
    "import csv\n",
    "import pandas as pd\n",
    "import numpy as np\n",
    "import sys\n",
    "\n",
    "from fancyimpute import MICE, BiScaler, KNN, NuclearNormMinimization, SoftImpute"
   ]
  },
  {
   "cell_type": "code",
   "execution_count": null,
   "metadata": {
    "collapsed": true,
    "deletable": true,
    "editable": true
   },
   "outputs": [],
   "source": [
    "df = pd.read_csv('background.csv', low_memory=False)\n",
    "df.cf4fint = ((pd.to_datetime(df.cf4fint) - pd.to_datetime('1960-01-01')) / np.timedelta64(1, 'D')).astype(int)"
   ]
  },
  {
   "cell_type": "code",
   "execution_count": null,
   "metadata": {
    "collapsed": true
   },
   "outputs": [],
   "source": [
    "def drop_low_var_quality_features(df, missing_values_threshold, std_threshold):\n",
    "    \"\"\"\n",
    "    Params:\n",
    "    missing_values_threshold: Maximum number of missing values for a column to be retained\n",
    "    std_threshold: Minimum standard deviation for a column to be retained.\n",
    "    \"\"\"\n",
    "    rows_count, cols_count = df.shape\n",
    "    df.dropna(axis=1, thresh=rows_count-missing_values_threshold, inplace=True)\n",
    "    df.drop(df.std()[df.std() < std_threshold].index.values, axis=1, inplace=True)"
   ]
  },
  {
   "cell_type": "code",
   "execution_count": null,
   "metadata": {
    "collapsed": false,
    "deletable": true,
    "editable": true
   },
   "outputs": [],
   "source": [
    "# number of nan cols\n",
    "print sum(df.isnull().sum().tolist())\n",
    "# number of non-nan cols\n",
    "print df.count().sum()\n",
    "# Total elements\n",
    "print df.size\n",
    "# Shape\n",
    "rows_count, cols_count = df.shape\n",
    "print (rows_count, cols_count)"
   ]
  },
  {
   "cell_type": "code",
   "execution_count": null,
   "metadata": {
    "collapsed": false,
    "deletable": true,
    "editable": true
   },
   "outputs": [],
   "source": [
    "# print sorted(df.isnull().sum().tolist(), reverse=True)[:10]\n",
    "fuller = df.dropna(axis=1, thresh=rows_count-200, inplace=False)\n",
    "# print sorted(fuller.isnull().sum().tolist(), reverse=True)[:10]\n",
    "# number of nan cols\n",
    "print sum(fuller.isnull().sum().tolist())\n",
    "print fuller.shape"
   ]
  },
  {
   "cell_type": "code",
   "execution_count": null,
   "metadata": {
    "collapsed": false,
    "deletable": true,
    "editable": true
   },
   "outputs": [],
   "source": [
    "threshold = 0.2\n",
    "\n",
    "high_dev=fuller.drop(fuller.std()[fuller.std() < threshold].index.values, axis=1)\n",
    "high_dev.shape"
   ]
  },
  {
   "cell_type": "code",
   "execution_count": null,
   "metadata": {
    "collapsed": false,
    "deletable": true,
    "editable": true
   },
   "outputs": [],
   "source": [
    "high_dev.shape\n",
    "print sum(high_dev.isnull().sum().tolist())"
   ]
  },
  {
   "cell_type": "code",
   "execution_count": null,
   "metadata": {
    "collapsed": false,
    "deletable": true,
    "editable": true
   },
   "outputs": [],
   "source": [
    "print sorted(df.isnull().sum().tolist(), reverse=True)[:10]\n",
    "print sorted(df.std())[:300]\n",
    "print df.shape"
   ]
  },
  {
   "cell_type": "code",
   "execution_count": null,
   "metadata": {
    "collapsed": false
   },
   "outputs": [],
   "source": [
    "drop_low_var_quality_features(df, 200, 0.2)\n",
    "print sorted(df.isnull().sum().tolist(), reverse=True)[:10]\n",
    "print sorted(df.std())[:300]\n",
    "print df.shape"
   ]
  },
  {
   "cell_type": "code",
   "execution_count": null,
   "metadata": {
    "collapsed": true
   },
   "outputs": [],
   "source": [
    "Y_train = pd.read_csv(\"train.csv\", low_memory=False)"
   ]
  },
  {
   "cell_type": "code",
   "execution_count": null,
   "metadata": {
    "collapsed": false
   },
   "outputs": [],
   "source": [
    "'challengeID' in list(df)"
   ]
  },
  {
   "cell_type": "code",
   "execution_count": null,
   "metadata": {
    "collapsed": false
   },
   "outputs": [],
   "source": [
    "training_ids = Y_train['challengeID'].tolist()"
   ]
  },
  {
   "cell_type": "code",
   "execution_count": null,
   "metadata": {
    "collapsed": false
   },
   "outputs": [],
   "source": [
    "X_train = df[df['challengeID'].isin(training_ids)]"
   ]
  },
  {
   "cell_type": "code",
   "execution_count": null,
   "metadata": {
    "collapsed": false
   },
   "outputs": [],
   "source": [
    "X_train_sorted = X_train.sort_values(by='challengeID')\n",
    "Y_train_sorted = Y_train.sort_values(by='challengeID')\n",
    "X_train = X_train_sorted\n",
    "Y_train = Y_train_sorted\n",
    "assert(Y_train['challengeID'].tolist() == X_train['challengeID'].tolist())"
   ]
  },
  {
   "cell_type": "code",
   "execution_count": null,
   "metadata": {
    "collapsed": true
   },
   "outputs": [],
   "source": [
    "def get_data_for_characteristic(X_train, Y_train, characteristic):\n",
    "    all_char = Y_train[characteristic] #This is a Series\n",
    "\n",
    "    #Remove rows where grit is NA\n",
    "    char_defined = np.where(all_char.notnull())\n",
    "    char = all_char.iloc[char_defined]\n",
    "    X_train_char = X_train.iloc[char_defined]\n",
    "\n",
    "    return X_train_char, char"
   ]
  },
  {
   "cell_type": "code",
   "execution_count": null,
   "metadata": {
    "collapsed": false
   },
   "outputs": [],
   "source": [
    "non_numeric_cols = X_train.select_dtypes(exclude=[np.number]).columns.values.tolist()\n",
    "X_train.drop(non_numeric_cols, axis=1, inplace=True)\n",
    "X_grit, y_grit = get_data_for_characteristic(X_train, Y_train, 'grit')"
   ]
  },
  {
   "cell_type": "code",
   "execution_count": null,
   "metadata": {
    "collapsed": false
   },
   "outputs": [],
   "source": [
    "print X_grit.shape\n",
    "X_grit_complete_cases = X_grit.dropna(axis=0, inplace=False)\n",
    "X_grit_complete_cases.shape"
   ]
  },
  {
   "cell_type": "code",
   "execution_count": null,
   "metadata": {
    "collapsed": false
   },
   "outputs": [],
   "source": [
    "X_grit_mat, y_grit_mat = X_grit.as_matrix(), y_grit.as_matrix()"
   ]
  },
  {
   "cell_type": "code",
   "execution_count": null,
   "metadata": {
    "collapsed": true
   },
   "outputs": [],
   "source": [
    "from sklearn.linear_model import RandomizedLasso"
   ]
  },
  {
   "cell_type": "code",
   "execution_count": null,
   "metadata": {
    "collapsed": false
   },
   "outputs": [],
   "source": []
  },
  {
   "cell_type": "code",
   "execution_count": null,
   "metadata": {
    "collapsed": false
   },
   "outputs": [],
   "source": [
    "thresholds = np.logspace(-4,-1,4)\n",
    "lasso = RandomizedLasso(alpha='aic', random_state=39, n_resampling=500)\n",
    "lasso.fit(X_grit_mat, y_grit_mat)\n",
    "stability_scores = lasso.scores_\n",
    "support = np.where(stability_scores > thresholds[0])[0]\n",
    "print threshold, '\\t', str(support)\n",
    "Xf = X_grit.iloc[:,support]"
   ]
  },
  {
   "cell_type": "code",
   "execution_count": null,
   "metadata": {
    "collapsed": true
   },
   "outputs": [],
   "source": []
  }
 ],
 "metadata": {
  "kernelspec": {
   "display_name": "Python 2",
   "language": "python",
   "name": "python2"
  },
  "language_info": {
   "codemirror_mode": {
    "name": "ipython",
    "version": 2
   },
   "file_extension": ".py",
   "mimetype": "text/x-python",
   "name": "python",
   "nbconvert_exporter": "python",
   "pygments_lexer": "ipython2",
   "version": "2.7.12"
  }
 },
 "nbformat": 4,
 "nbformat_minor": 2
}
