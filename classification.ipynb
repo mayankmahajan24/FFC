{
 "cells": [
  {
   "cell_type": "code",
   "execution_count": null,
   "metadata": {
    "collapsed": false,
    "deletable": true,
    "editable": true
   },
   "outputs": [],
   "source": [
    "import csv\n",
    "import pandas as pd\n",
    "import numpy as np\n",
    "import sys\n",
    "import warnings\n",
    "import matplotlib.pyplot as plt\n",
    "import statsmodels.regression.linear_model as lm\n",
    "import statsmodels.api as sm\n",
    "\n",
    "from scipy import linalg\n",
    "from sklearn import datasets\n",
    "from sklearn.mixture import GaussianMixture\n",
    "from sklearn.model_selection import StratifiedKFold, KFold, GridSearchCV\n",
    "from sklearn.linear_model import LassoCV, LassoLarsCV, LassoLarsIC, RandomizedLasso, lasso_stability_path, ElasticNet, Lasso, Ridge\n",
    "from sklearn.feature_selection import f_regression\n",
    "from sklearn.preprocessing import StandardScaler\n",
    "from sklearn.metrics import auc, precision_recall_curve, mean_squared_error\n",
    "from sklearn.ensemble import ExtraTreesRegressor\n",
    "from sklearn.utils.extmath import pinvh\n",
    "from sklearn.exceptions import ConvergenceWarning\n",
    "from zipfile import ZipFile\n",
    "from datetime import datetime"
   ]
  },
  {
   "cell_type": "code",
   "execution_count": null,
   "metadata": {
    "collapsed": true,
    "deletable": true,
    "editable": true
   },
   "outputs": [],
   "source": [
    "def fillMissing(inputcsv, outputcsv):    \n",
    "    # read input csv - takes time\n",
    "    df = pd.read_csv(inputcsv, low_memory=False)\n",
    "    # Fix date bug\n",
    "    df.cf4fint = ((pd.to_datetime(df.cf4fint) - pd.to_datetime('1960-01-01')) / np.timedelta64(1, 'D')).astype(int)\n",
    "\n",
    "    # replace NA's with median\n",
    "    med2 = df.median()\n",
    "    dfi = df.fillna(value=med2)\n",
    "    \n",
    "    #remove object columns\n",
    "    dfn= dfi.select_dtypes(['number'])\n",
    "\n",
    "    #remove NA columns\n",
    "    a = dfn.notnull().all()\n",
    "    dfn = dfn[a[a].index]\n",
    "\n",
    "    # replace negative values with 1\n",
    "    num = dfn._get_numeric_data()\n",
    "    num[num < 0] = 1\n",
    "    # write filled outputcsv\n",
    "    dfn.to_csv(outputcsv, index=False)"
   ]
  },
  {
   "cell_type": "code",
   "execution_count": null,
   "metadata": {
    "collapsed": false,
    "deletable": true,
    "editable": true
   },
   "outputs": [],
   "source": [
    "fillMissing('background.csv', 'output.csv')"
   ]
  },
  {
   "cell_type": "code",
   "execution_count": null,
   "metadata": {
    "collapsed": false,
    "deletable": true,
    "editable": true
   },
   "outputs": [],
   "source": [
    "background = pd.read_csv(\"output.csv\", low_memory=False)\n",
    "background.sort_values(by='challengeID', inplace=True)\n",
    "prediction = pd.read_csv(\"prediction_old.csv\", low_memory=False)"
   ]
  },
  {
   "cell_type": "code",
   "execution_count": null,
   "metadata": {
    "collapsed": true,
    "deletable": true,
    "editable": true
   },
   "outputs": [],
   "source": [
    "def filter_data(background):\n",
    "\tnRow = len(background) \n",
    "\tnCol = len(background.iloc[0,:])\n",
    "\n",
    "\tX_all = background.drop(['challengeID', 'idnum'], axis=1)\n",
    "\tX_train = X_all.iloc[:2121,:]\n",
    "\n",
    "\tY_train = pd.read_csv(\"train.csv\", low_memory=False)\n",
    "\treturn X_train, Y_train"
   ]
  },
  {
   "cell_type": "code",
   "execution_count": null,
   "metadata": {
    "collapsed": false,
    "deletable": true,
    "editable": true
   },
   "outputs": [],
   "source": [
    "X_all,y_all = filter_data(background)"
   ]
  },
  {
   "cell_type": "code",
   "execution_count": null,
   "metadata": {
    "collapsed": true,
    "deletable": true,
    "editable": true
   },
   "outputs": [],
   "source": [
    "def get_data_for_characteristic(X_train, Y_train, characteristic):\n",
    "\tall_char = Y_train[characteristic] #This is a Series\n",
    "\n",
    "\t#Remove rows where grit is NA\n",
    "\tchar_defined = np.where(all_char.notnull())\n",
    "\tchar = all_char.iloc[char_defined]\n",
    "\tX_train_char = X_train.iloc[char_defined]\n",
    "\n",
    "\treturn X_train_char, char"
   ]
  },
  {
   "cell_type": "code",
   "execution_count": null,
   "metadata": {
    "collapsed": false,
    "deletable": true,
    "editable": true
   },
   "outputs": [],
   "source": [
    "X_evict, y_evict = get_data_for_characteristic(X_all, y_all, 'eviction')\n",
    "print len(X_evict.astype(float))\n",
    "print len(X_evict.iloc[0, ])\n",
    "print len(y_evict.astype(float))"
   ]
  },
  {
   "cell_type": "code",
   "execution_count": null,
   "metadata": {
    "collapsed": false,
    "deletable": true,
    "editable": true
   },
   "outputs": [],
   "source": [
    "gaussian_links = sm.families.family.Gaussian.links"
   ]
  },
  {
   "cell_type": "code",
   "execution_count": null,
   "metadata": {
    "collapsed": true
   },
   "outputs": [],
   "source": [
    "binomial_links = sm.families.family.Binomial.links"
   ]
  },
  {
   "cell_type": "code",
   "execution_count": null,
   "metadata": {
    "collapsed": false,
    "deletable": true,
    "editable": true
   },
   "outputs": [],
   "source": []
  },
  {
   "cell_type": "code",
   "execution_count": null,
   "metadata": {
    "collapsed": true
   },
   "outputs": [],
   "source": []
  }
 ],
 "metadata": {
  "kernelspec": {
   "display_name": "Python 2",
   "language": "python",
   "name": "python2"
  },
  "language_info": {
   "codemirror_mode": {
    "name": "ipython",
    "version": 2
   },
   "file_extension": ".py",
   "mimetype": "text/x-python",
   "name": "python",
   "nbconvert_exporter": "python",
   "pygments_lexer": "ipython2",
   "version": "2.7.12"
  }
 },
 "nbformat": 4,
 "nbformat_minor": 2
}
